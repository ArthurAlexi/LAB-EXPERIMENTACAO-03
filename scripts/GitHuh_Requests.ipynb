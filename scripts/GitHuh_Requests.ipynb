{
 "cells": [
  {
   "cell_type": "code",
   "execution_count": null,
   "metadata": {},
   "outputs": [],
   "source": [
    "import requests as req\n",
    "import pandas as pd\n",
    "import json\n",
    "from datetime import datetime"
   ]
  },
  {
   "cell_type": "markdown",
   "metadata": {},
   "source": [
    "# Utils "
   ]
  },
  {
   "cell_type": "markdown",
   "metadata": {},
   "source": [
    "## Consts"
   ]
  },
  {
   "cell_type": "code",
   "execution_count": null,
   "metadata": {},
   "outputs": [],
   "source": [
    "DOMAIN = 'https://api.github.com/graphql'\n",
    "TOKEN = ''\n",
    "HEADERS = {\n",
    "  'Authorization': f'bearer {TOKEN}',\n",
    "  'Content-Type': 'application/json'\n",
    "}\n",
    "TODAY = datetime.now()\n",
    "NUMBER_OF_REPOSITORIES=200"
   ]
  },
  {
   "cell_type": "markdown",
   "metadata": {},
   "source": [
    "## Functions"
   ]
  },
  {
   "cell_type": "code",
   "execution_count": null,
   "metadata": {},
   "outputs": [],
   "source": [
    "def doPost(data : json)-> json:\n",
    "  response = req.post(DOMAIN, headers=HEADERS, json=data)\n",
    "  if response.status_code == 200:\n",
    "    return response.json()\n",
    "\n",
    "  raise Exception(f'Erro ao fazer requisição: {response.status_code} \\n {response.text}')\n",
    "\n",
    "def analisar_createdAt(repositories: list):\n",
    "  data_frame = pd.DataFrame(repositories)\n",
    "  created_dates = [datetime.strptime(date, '%Y-%m-%dT%H:%M:%SZ') for date in data_frame['createdAt']]\n",
    "  age_years = [round((TODAY - date).days / 365, 2) for date in created_dates]\n",
    "  return age_years"
   ]
  },
  {
   "cell_type": "markdown",
   "metadata": {},
   "source": [
    "# REQUESTS"
   ]
  },
  {
   "cell_type": "markdown",
   "metadata": {},
   "source": [
    "## QUERY"
   ]
  },
  {
   "cell_type": "code",
   "execution_count": null,
   "metadata": {},
   "outputs": [],
   "source": [
    "query_to_repos = '''\n",
    "query search($queryString: String!, $perPage: Int!, $cursor: String) {\n",
    "  search(query: $queryString, type: REPOSITORY, first: $perPage, after: $cursor) {\n",
    "    edges {\n",
    "      node {\n",
    "        ... on Repository {\n",
    "          nameWithOwner\n",
    "          stargazers {\n",
    "            totalCount\n",
    "          }\n",
    "          pullRequests(states: [MERGED, CLOSED], first: 100) {\n",
    "            totalCount\n",
    "          }\n",
    "        }\n",
    "      }\n",
    "    }\n",
    "    pageInfo {\n",
    "      endCursor\n",
    "      hasNextPage\n",
    "    }\n",
    "  }\n",
    "}\n",
    "'''\n",
    "\n",
    "\n",
    "query_to_pullRequests = '''\n",
    "query getPullRequests($owner: String!, $name: String!) {\n",
    "  repository(owner: $owner, name: $name) {\n",
    "    pullRequests(states: [MERGED, CLOSED], first: 100, orderBy: {field: CREATED_AT, direction: DESC}) {\n",
    "      edges {\n",
    "        node {\n",
    "          number\n",
    "          title\n",
    "          createdAt\n",
    "          closedAt\n",
    "          mergedAt\n",
    "          reviewDecision\n",
    "          participants {\n",
    "            totalCount\n",
    "          }\n",
    "          comments {\n",
    "            totalCount\n",
    "          }\n",
    "          reviews(first: 1) {\n",
    "            totalCount\n",
    "            edges {\n",
    "              node {\n",
    "                createdAt\n",
    "                updatedAt\n",
    "                state\n",
    "              }\n",
    "            }\n",
    "          }\n",
    "          files {\n",
    "            totalCount\n",
    "          }\n",
    "          additions\n",
    "          deletions\n",
    "          bodyText\n",
    "        }\n",
    "      }\n",
    "    }\n",
    "  }\n",
    "}\n",
    "'''"
   ]
  },
  {
   "cell_type": "code",
   "execution_count": null,
   "metadata": {},
   "outputs": [],
   "source": [
    "per_page = 1\n",
    "cursor = None\n",
    "repositories = []\n",
    "query_string = \"stars:>0\"\n",
    "\n",
    "while len(repositories) < NUMBER_OF_REPOSITORIES:\n",
    "    variables = {\n",
    "        \"queryString\": query_string,\n",
    "        \"perPage\": per_page,\n",
    "        \"cursor\": cursor\n",
    "    }\n",
    "    \n",
    "    data = doPost(data={'query': query_to_repos, 'variables': variables})\n",
    "    # print(data)\n",
    "    if 'errors' in data:\n",
    "        print(\"GraphQL query failed:\", data['errors'])\n",
    "        break\n",
    "    \n",
    "    for edge in data['data']['search']['edges']:\n",
    "        \n",
    "        if edge['node']['pullRequests']['totalCount'] < 100:\n",
    "            continue\n",
    "        \n",
    "        if len(repositories) < 200:\n",
    "            repositories.append(edge['node'])\n",
    "\n",
    "    if data['data']['search']['pageInfo']['hasNextPage']:\n",
    "        cursor = data['data']['search']['pageInfo']['endCursor']\n",
    "    else:\n",
    "        break\n",
    "\n",
    "print(\"Total repositories: \", len(repositories))\n",
    "print(\"Cursor: \", cursor)\n",
    "print(\"Per page: \", per_page)\n",
    "\n",
    "data_brutus = pd.DataFrame(repositories)\n",
    "data_brutus.to_csv('./dataset/dados_base.csv', index=False, sep=';')\n"
   ]
  },
  {
   "cell_type": "markdown",
   "metadata": {},
   "source": [
    "## data processing"
   ]
  },
  {
   "cell_type": "code",
   "execution_count": null,
   "metadata": {},
   "outputs": [],
   "source": [
    "dataFrame_tratado = pd.DataFrame()\n",
    "dataFrame_tratado['Repositorio'] = [repo.get('nameWithOwner') for repo in repositories]\n",
    "dataFrame_tratado['Estrelas'] = [repo.get('stargazers', {}).get('totalCount', 0) if isinstance(repo, dict) else 0 for repo in repositories]\n",
    "dataFrame_tratado['nº Pull Requests'] = [repo.get('pullRequests').get('totalCount',0) if isinstance(repo, dict) else 0 for repo in repositories]\n",
    "\n",
    "dataFrame_tratado.head()\n",
    "dataFrame_tratado.to_csv('./dataset/dados_tratados.csv', index=False, sep=';')"
   ]
  },
  {
   "cell_type": "markdown",
   "metadata": {},
   "source": [
    "## Requests to Pull Requests"
   ]
  },
  {
   "cell_type": "code",
   "execution_count": null,
   "metadata": {},
   "outputs": [],
   "source": [
    "data_treats = pd.read_csv('./dataset/dados_tratados.csv', sep=';')\n",
    "\n",
    "names = []\n",
    "owners = []\n",
    "title = []\n",
    "number = []\n",
    "createdAt = []\n",
    "closedAt = []\n",
    "mergedAt = []\n",
    "reviewDecision = []\n",
    "reviews = []\n",
    "total_files = []\n",
    "additions = []\n",
    "deletions = []\n",
    "bodyText = []\n",
    "comments = []\n",
    "participants = []\n",
    "\n",
    "for nameWithOwner in data_treats['Repositorio']:\n",
    "    print(nameWithOwner)\n",
    "    owner, name = nameWithOwner.split('/')\n",
    "    variables = {\n",
    "        \"owner\": owner,\n",
    "        \"name\": name,\n",
    "    }\n",
    "    \n",
    "    try:\n",
    "        data = doPost(data={'query': query_to_pullRequests, 'variables': variables})\n",
    "        \n",
    "        if 'errors' in data:\n",
    "            print(\"GraphQL query failed:\", data['errors'])\n",
    "        \n",
    "    \n",
    "        for node in data['data']['repository']['pullRequests']['edges']:\n",
    "            values = node['node']\n",
    "            names.append(name)\n",
    "            owners.append(owner)\n",
    "            title.append(values['title'])\n",
    "            number.append(values['number'])\n",
    "            createdAt.append(values['createdAt'])\n",
    "            closedAt.append(values['closedAt'])\n",
    "            mergedAt.append(values['mergedAt'])\n",
    "            reviewDecision.append(values['reviewDecision'])\n",
    "            reviews.append(values['reviews']['totalCount'])\n",
    "            participants.append(values['participants']['totalCount'])\n",
    "            comments.append(values['comments']['totalCount'])\n",
    "            total_files.append(values['files']['totalCount'])\n",
    "            additions.append(values['additions'])\n",
    "            deletions.append(values['deletions'])\n",
    "            bodyText.append(values['bodyText'])\n",
    "    except Exception as ex:\n",
    "        names.append(name)\n",
    "        owners.append(owner)\n",
    "        title.append(None)\n",
    "        number.append(None)\n",
    "        createdAt.append(None)\n",
    "        closedAt.append(None)\n",
    "        mergedAt.append(None)\n",
    "        reviewDecision.append(None)\n",
    "        reviews.append(None)\n",
    "        total_files.append(None)\n",
    "        additions.append(None)\n",
    "        deletions.append(None)\n",
    "        bodyText.append(None)\n",
    "        participants.append(None)\n",
    "        comments.append(None)"
   ]
  },
  {
   "cell_type": "code",
   "execution_count": null,
   "metadata": {},
   "outputs": [],
   "source": [
    "dataFrame_final = pd.DataFrame()\n",
    "dataFrame_final['Proprietário'] = owners\n",
    "dataFrame_final['Repositorio'] = names\n",
    "dataFrame_final['Estrelas'] = data_treats['Estrelas']\n",
    "dataFrame_final['Título'] = title\n",
    "dataFrame_final['Número'] = number\n",
    "dataFrame_final['Criado em'] = createdAt\n",
    "dataFrame_final['fechado em'] = closedAt\n",
    "dataFrame_final['merge em'] = mergedAt\n",
    "dataFrame_final['decisão da review'] = reviewDecision\n",
    "dataFrame_final['Total de Reviews'] = reviews\n",
    "dataFrame_final['Total de arquivos'] = total_files\n",
    "dataFrame_final['Adições'] = additions\n",
    "dataFrame_final['exclusões'] = deletions\n",
    "dataFrame_final['Texto de corpo'] = bodyText\n",
    "dataFrame_final['total de participantes'] = participants\n",
    "dataFrame_final['total de comentários'] = comments\n",
    "\n",
    "\n",
    "dataFrame_final.head()\n",
    "dataFrame_final.to_csv('./dataset/dados_tratados_pulRequests.csv', index=False, sep=';')\n"
   ]
  },
  {
   "cell_type": "code",
   "execution_count": null,
   "metadata": {},
   "outputs": [],
   "source": [
    "dataFrame_final.head()"
   ]
  }
 ],
 "metadata": {
  "kernelspec": {
   "display_name": ".venv",
   "language": "python",
   "name": "python3"
  },
  "language_info": {
   "codemirror_mode": {
    "name": "ipython",
    "version": 3
   },
   "file_extension": ".py",
   "mimetype": "text/x-python",
   "name": "python",
   "nbconvert_exporter": "python",
   "pygments_lexer": "ipython3",
   "version": "3.12.3"
  }
 },
 "nbformat": 4,
 "nbformat_minor": 2
}
